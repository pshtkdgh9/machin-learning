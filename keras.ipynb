{
 "cells": [
  {
   "cell_type": "code",
   "execution_count": 103,
   "metadata": {},
   "outputs": [
    {
     "name": "stdout",
     "output_type": "stream",
     "text": [
      "pomeranian  파일 길이 :  979\n",
      "pomeranian  :  C://team/train/pomeranian\\12.jpg\n",
      "pomeranian  :  C://team/train/pomeranian\\다운로드 - 2020-05-15T180036.822.jpg\n",
      "shihtzu  파일 길이 :  1002\n",
      "shihtzu  :  C://team/train/shihtzu\\1.jpg\n",
      "shihtzu  :  C://team/train/shihtzu\\다운로드 - 2020-05-15T180923.821.jpg\n",
      "Border collie  파일 길이 :  489\n",
      "Border collie  :  C://team/train/Border collie\\asd.jpg\n",
      "Welsh corgi  파일 길이 :  447\n",
      "Welsh corgi  :  C://team/train/Welsh corgi\\images (10).jpg\n",
      "Husky  파일 길이 :  1034\n",
      "Husky  :  C://team/train/Husky\\5-1.jpg\n",
      "Husky  :  C://team/train/Husky\\다운로드 - 2020-05-17T110916.890.jpg\n",
      "Doberman  파일 길이 :  1102\n",
      "Doberman  :  C://team/train/Doberman\\6-1.jpg\n",
      "Doberman  :  C://team/train/Doberman\\다운로드 - 2020-05-17T111258.824.jpg\n"
     ]
    }
   ],
   "source": [
    "from PIL import Image\n",
    "import os, glob, numpy as np\n",
    "from sklearn.model_selection import train_test_split\n",
    "\n",
    "caltech_dir = \"C://team/train\"\n",
    "categories = [\"pomeranian\", \"shihtzu\",\"Border collie\",\"Welsh corgi\",\"Husky\",\"Doberman\"]\n",
    "nb_classes = len(categories)\n",
    "\n",
    "image_w = 64\n",
    "image_h = 64\n",
    "\n",
    "pixels = image_h * image_w * 3\n",
    "\n",
    "X = []\n",
    "y = []\n",
    "\n",
    "for idx, cat in enumerate(categories):\n",
    "    \n",
    "    #one-hot 돌리기.\n",
    "    label = [0 for i in range(nb_classes)]\n",
    "    label[idx] = 1\n",
    "\n",
    "    image_dir = caltech_dir + \"/\" + cat\n",
    "    files = glob.glob(image_dir+\"/*.jpg\")\n",
    "    print(cat, \" 파일 길이 : \", len(files))\n",
    "    for i, f in enumerate(files):\n",
    "        img = Image.open(f)\n",
    "        img = img.convert(\"RGB\")\n",
    "        img = img.resize((image_w, image_h))\n",
    "        data = np.asarray(img)\n",
    "\n",
    "        X.append(data)\n",
    "        y.append(label)\n",
    "\n",
    "        if i % 700 == 0:\n",
    "            print(cat, \" : \", f)\n",
    "\n",
    "X = np.array(X)\n",
    "y = np.array(y)\n",
    "#1 0 0 0 이면 airplanes\n",
    "\n",
    "#0 1 0 0 이면 buddha 이런식\n",
    "\n",
    "\n",
    "X_train, X_test, y_train, y_test = train_test_split(X, y)\n",
    "xy = (X_train, X_test, y_train, y_test)\n",
    "np.save(\"C://numpy_data/multi_image_data.npy\", xy)\n"
   ]
  },
  {
   "cell_type": "code",
   "execution_count": 104,
   "metadata": {},
   "outputs": [
    {
     "name": "stdout",
     "output_type": "stream",
     "text": [
      "(3789, 64, 64, 3)\n",
      "3789\n"
     ]
    }
   ],
   "source": [
    "import os, glob, numpy as np\n",
    "from keras.models import Sequential\n",
    "from keras.layers import Conv2D, MaxPooling2D, Dense, Flatten, Dropout\n",
    "from keras.callbacks import EarlyStopping, ModelCheckpoint\n",
    "import matplotlib.pyplot as plt\n",
    "import keras.backend.tensorflow_backend as K\n",
    "\n",
    "import tensorflow as tf\n",
    "config = tf.compat.v1.ConfigProto()\n",
    "config.gpu_options.allow_growth = True\n",
    "session = tf.compat.v1.Session(config=config)\n",
    "np_load_old = np.load\n",
    "X_train, X_test, y_train, y_test = np.load('C://numpy_data/multi_image_data.npy',allow_pickle=True)\n",
    "print(X_train.shape)\n",
    "print(X_train.shape[0])"
   ]
  },
  {
   "cell_type": "code",
   "execution_count": 105,
   "metadata": {},
   "outputs": [],
   "source": [
    "categories = [\"pomeranian\", \"shihtzu\",\"Border collie\",\"Welsh corgi\",\"Husky\",\"Doberman\"]\n",
    "nb_classes = len(categories)\n",
    "\n",
    "#일반화\n",
    "X_train = X_train.astype(float) / 255\n",
    "X_test = X_test.astype(float) / 255"
   ]
  },
  {
   "cell_type": "code",
   "execution_count": 106,
   "metadata": {},
   "outputs": [],
   "source": [
    "with K.tf_ops.device('/device:CPU:0'):\n",
    "    model = Sequential()\n",
    "    model.add(Conv2D(32, (3,3), padding=\"same\", input_shape=X_train.shape[1:], activation='relu'))\n",
    "    model.add(MaxPooling2D(pool_size=(2,2)))\n",
    "    model.add(Dropout(0.25))\n",
    "    \n",
    "    model.add(Conv2D(64, (3,3), padding=\"same\", activation='relu'))\n",
    "    model.add(MaxPooling2D(pool_size=(2,2)))\n",
    "    model.add(Dropout(0.25))\n",
    "    \n",
    "    model.add(Flatten())\n",
    "    model.add(Dense(256, activation='relu'))\n",
    "    model.add(Dropout(0.5))\n",
    "    model.add(Dense(nb_classes, activation='softmax'))\n",
    "    model.compile(loss='categorical_crossentropy', optimizer='adam', metrics=['accuracy'])\n",
    "    model_dir = './model'\n",
    "    \n",
    "    if not os.path.exists(model_dir):\n",
    "        os.mkdir(model_dir)\n",
    "    \n",
    "    model_path = model_dir + '/multi_img_classification.model'\n",
    "    checkpoint = ModelCheckpoint(filepath=model_path , monitor='val_loss', verbose=1, save_best_only=True)\n",
    "    early_stopping = EarlyStopping(monitor='val_loss', patience=6)"
   ]
  },
  {
   "cell_type": "code",
   "execution_count": 107,
   "metadata": {},
   "outputs": [
    {
     "name": "stdout",
     "output_type": "stream",
     "text": [
      "Model: \"sequential_11\"\n",
      "_________________________________________________________________\n",
      "Layer (type)                 Output Shape              Param #   \n",
      "=================================================================\n",
      "conv2d_20 (Conv2D)           (None, 64, 64, 32)        896       \n",
      "_________________________________________________________________\n",
      "max_pooling2d_19 (MaxPooling (None, 32, 32, 32)        0         \n",
      "_________________________________________________________________\n",
      "dropout_28 (Dropout)         (None, 32, 32, 32)        0         \n",
      "_________________________________________________________________\n",
      "conv2d_21 (Conv2D)           (None, 32, 32, 64)        18496     \n",
      "_________________________________________________________________\n",
      "max_pooling2d_20 (MaxPooling (None, 16, 16, 64)        0         \n",
      "_________________________________________________________________\n",
      "dropout_29 (Dropout)         (None, 16, 16, 64)        0         \n",
      "_________________________________________________________________\n",
      "flatten_10 (Flatten)         (None, 16384)             0         \n",
      "_________________________________________________________________\n",
      "dense_19 (Dense)             (None, 256)               4194560   \n",
      "_________________________________________________________________\n",
      "dropout_30 (Dropout)         (None, 256)               0         \n",
      "_________________________________________________________________\n",
      "dense_20 (Dense)             (None, 6)                 1542      \n",
      "=================================================================\n",
      "Total params: 4,215,494\n",
      "Trainable params: 4,215,494\n",
      "Non-trainable params: 0\n",
      "_________________________________________________________________\n"
     ]
    }
   ],
   "source": [
    "model.summary()"
   ]
  },
  {
   "cell_type": "code",
   "execution_count": 108,
   "metadata": {},
   "outputs": [
    {
     "name": "stdout",
     "output_type": "stream",
     "text": [
      "Train on 3789 samples, validate on 1264 samples\n",
      "Epoch 1/10\n",
      "3789/3789 [==============================] - 23s 6ms/step - loss: 1.7531 - accuracy: 0.2724 - val_loss: 1.5310 - val_accuracy: 0.4130\n",
      "\n",
      "Epoch 00001: val_loss improved from inf to 1.53101, saving model to ./model/multi_img_classification.model\n",
      "Epoch 2/10\n",
      "3789/3789 [==============================] - 23s 6ms/step - loss: 1.4388 - accuracy: 0.4524 - val_loss: 1.3783 - val_accuracy: 0.5040\n",
      "\n",
      "Epoch 00002: val_loss improved from 1.53101 to 1.37835, saving model to ./model/multi_img_classification.model\n",
      "Epoch 3/10\n",
      "3789/3789 [==============================] - 23s 6ms/step - loss: 1.2699 - accuracy: 0.5323 - val_loss: 1.2018 - val_accuracy: 0.5696\n",
      "\n",
      "Epoch 00003: val_loss improved from 1.37835 to 1.20184, saving model to ./model/multi_img_classification.model\n",
      "Epoch 4/10\n",
      "3789/3789 [==============================] - 24s 6ms/step - loss: 1.1331 - accuracy: 0.5846 - val_loss: 1.1190 - val_accuracy: 0.5957\n",
      "\n",
      "Epoch 00004: val_loss improved from 1.20184 to 1.11901, saving model to ./model/multi_img_classification.model\n",
      "Epoch 5/10\n",
      "3789/3789 [==============================] - 23s 6ms/step - loss: 1.0403 - accuracy: 0.6292 - val_loss: 1.0901 - val_accuracy: 0.6013\n",
      "\n",
      "Epoch 00005: val_loss improved from 1.11901 to 1.09007, saving model to ./model/multi_img_classification.model\n",
      "Epoch 6/10\n",
      "3789/3789 [==============================] - 24s 6ms/step - loss: 0.9237 - accuracy: 0.6680 - val_loss: 1.0299 - val_accuracy: 0.6266\n",
      "\n",
      "Epoch 00006: val_loss improved from 1.09007 to 1.02992, saving model to ./model/multi_img_classification.model\n",
      "Epoch 7/10\n",
      "3789/3789 [==============================] - 25s 7ms/step - loss: 0.8415 - accuracy: 0.7007 - val_loss: 0.9920 - val_accuracy: 0.6559\n",
      "\n",
      "Epoch 00007: val_loss improved from 1.02992 to 0.99201, saving model to ./model/multi_img_classification.model\n",
      "Epoch 8/10\n",
      "3789/3789 [==============================] - 25s 7ms/step - loss: 0.7540 - accuracy: 0.7229 - val_loss: 1.0149 - val_accuracy: 0.6566\n",
      "\n",
      "Epoch 00008: val_loss did not improve from 0.99201\n",
      "Epoch 9/10\n",
      "3789/3789 [==============================] - 26s 7ms/step - loss: 0.6897 - accuracy: 0.7503 - val_loss: 0.9939 - val_accuracy: 0.6598\n",
      "\n",
      "Epoch 00009: val_loss did not improve from 0.99201\n",
      "Epoch 10/10\n",
      "3789/3789 [==============================] - 26s 7ms/step - loss: 0.5992 - accuracy: 0.7812 - val_loss: 0.9624 - val_accuracy: 0.6875\n",
      "\n",
      "Epoch 00010: val_loss improved from 0.99201 to 0.96240, saving model to ./model/multi_img_classification.model\n"
     ]
    }
   ],
   "source": [
    "history = model.fit(X_train, y_train, batch_size=32, epochs=10, validation_data=(X_test, y_test), callbacks=[checkpoint, early_stopping])"
   ]
  },
  {
   "cell_type": "code",
   "execution_count": 109,
   "metadata": {},
   "outputs": [
    {
     "name": "stdout",
     "output_type": "stream",
     "text": [
      "1264/1264 [==============================] - 1s 1ms/step\n",
      "정확도 : 0.6875\n"
     ]
    }
   ],
   "source": [
    "print(\"정확도 : %.4f\" % (model.evaluate(X_test, y_test)[1]))"
   ]
  },
  {
   "cell_type": "code",
   "execution_count": 110,
   "metadata": {},
   "outputs": [
    {
     "data": {
      "image/png": "[encoded data removed]",
      "text/plain": [
       "<Figure size 432x288 with 1 Axes>"
      ]
     },
     "metadata": {
      "needs_background": "light"
     },
     "output_type": "display_data"
    }
   ],
   "source": [
    "y_vloss = history.history['val_loss']\n",
    "y_loss = history.history['loss']\n",
    "\n",
    "x_len = np.arange(len(y_loss))\n",
    "\n",
    "plt.plot(x_len, y_vloss, marker='.', c='red', label='val_set_loss')\n",
    "plt.plot(x_len, y_loss, marker='.', c='blue', label='train_set_oss')\n",
    "plt.legend()\n",
    "plt.xlabel('epochs')\n",
    "plt.ylabel('loss')\n",
    "plt.grid()\n",
    "plt.show()"
   ]
  },
  {
   "cell_type": "code",
   "execution_count": 111,
   "metadata": {},
   "outputs": [
    {
     "name": "stdout",
     "output_type": "stream",
     "text": [
      "[1.000 0.000 0.000 0.000 0.000 0.000]\n",
      "0\n",
      "해당 1-1.jpg이미지는 포메라니안로 추정됩니다.\n",
      "[1.000 0.000 0.000 0.000 0.000 0.000]\n",
      "0\n",
      "해당 1-2.jpg이미지는 포메라니안로 추정됩니다.\n",
      "[1.000 0.000 0.000 0.000 0.000 0.000]\n",
      "0\n",
      "해당 1-4.jpg이미지는 포메라니안로 추정됩니다.\n",
      "[0.000 1.000 0.000 0.000 0.000 0.000]\n",
      "1\n",
      "해당 2-1.jpg이미지는 시츄으로 추정됩니다.\n",
      "[0.000 1.000 0.000 0.000 0.000 0.000]\n",
      "1\n",
      "해당 2-2.jpg이미지는 시츄으로 추정됩니다.\n",
      "[0.000 1.000 0.000 0.000 0.000 0.000]\n",
      "1\n",
      "해당 2-3.jpg이미지는 시츄으로 추정됩니다.\n",
      "[0.000 1.000 0.000 0.000 0.000 0.000]\n",
      "1\n",
      "해당 2-4.jpg이미지는 시츄으로 추정됩니다.\n",
      "[0.000 0.000 1.000 0.000 0.000 0.000]\n",
      "2\n",
      "해당 3-1 (1).jpg이미지는 보더콜리로 추정됩니다.\n",
      "[0.000 0.000 1.000 0.000 0.000 0.000]\n",
      "2\n",
      "해당 3-1 (2).jpg이미지는 보더콜리로 추정됩니다.\n",
      "[0.000 0.000 1.000 0.000 0.000 0.000]\n",
      "2\n",
      "해당 3-1 (3).jpg이미지는 보더콜리로 추정됩니다.\n",
      "[0.000 0.000 0.000 1.000 0.000 0.000]\n",
      "3\n",
      "해당 4-1.jpg이미지는 웰시코기로 추정됩니다.\n",
      "[0.000 0.000 0.000 1.000 0.000 0.000]\n",
      "3\n",
      "해당 4-2.jpg이미지는 웰시코기로 추정됩니다.\n",
      "[0.000 0.000 0.000 1.000 0.000 0.000]\n",
      "3\n",
      "해당 4-3.jpg이미지는 웰시코기로 추정됩니다.\n",
      "[0.000 0.000 0.000 0.000 1.000 0.000]\n",
      "4\n",
      "해당 5-1.jpg이미지는 허스키로 추정됩니다.\n",
      "[0.000 0.000 0.000 0.000 1.000 0.000]\n",
      "4\n",
      "해당 5-2.jpg이미지는 허스키로 추정됩니다.\n",
      "[0.000 0.000 0.000 0.000 1.000 0.000]\n",
      "4\n",
      "해당 5-3.jpg이미지는 허스키로 추정됩니다.\n",
      "[0.000 0.000 0.000 0.000 0.000 1.000]\n",
      "5\n",
      "해당 6-1.jpg이미지는 도베르만로 추정됩니다.\n",
      "[0.000 0.000 0.000 0.000 0.000 1.000]\n",
      "5\n",
      "해당 6-2.jpg이미지는 도베르만로 추정됩니다.\n",
      "[0.000 0.000 0.000 0.000 0.000 1.000]\n",
      "5\n",
      "해당 6-3.jpg이미지는 도베르만로 추정됩니다.\n"
     ]
    }
   ],
   "source": [
    "from PIL import Image\n",
    "import os, glob, numpy as np\n",
    "from keras.models import load_model\n",
    "\n",
    "caltech_dir = \"C://multi_img_data/imgs_others_test\"\n",
    "image_w = 64\n",
    "image_h = 64\n",
    "\n",
    "pixels = image_h * image_w * 3\n",
    "\n",
    "X = []\n",
    "filenames = []\n",
    "files = glob.glob(caltech_dir+\"/*.*\")\n",
    "for i, f in enumerate(files):\n",
    "    img = Image.open(f)\n",
    "    img = img.convert(\"RGB\")\n",
    "    img = img.resize((image_w, image_h))\n",
    "    data = np.asarray(img)\n",
    "    filenames.append(f)\n",
    "    X.append(data)\n",
    "\n",
    "X = np.array(X)\n",
    "model = load_model('./model/multi_img_classification.model')\n",
    "\n",
    "prediction = model.predict(X)\n",
    "np.set_printoptions(formatter={'float': lambda x: \"{0:0.3f}\".format(x)})\n",
    "cnt = 0\n",
    "\n",
    "#이 비교는 그냥 파일들이 있으면 해당 파일과 비교. 카테고리와 함께 비교해서 진행하는 것은 _4 파일.\n",
    "for i in prediction:\n",
    "    pre_ans = i.argmax()  # 예측 레이블\n",
    "    print(i)\n",
    "    print(pre_ans)\n",
    "    pre_ans_str = ''\n",
    "    if pre_ans == 0: pre_ans_str = \"포메라니안\"\n",
    "    elif pre_ans == 1: pre_ans_str = \"시츄\"\n",
    "    elif pre_ans == 2: pre_ans_str = \"보더콜리\"\n",
    "    elif pre_ans == 3: pre_ans_str = \"웰시코기\"\n",
    "    elif pre_ans == 4: pre_ans_str = \"허스키\"        \n",
    "    else: pre_ans_str = \"도베르만\"\n",
    "    if i[0] >= 0.8 : print(\"해당 \"+filenames[cnt].split(\"\\\\\")[1]+\"이미지는 \"+pre_ans_str+\"로 추정됩니다.\")\n",
    "    if i[1] >= 0.8: print(\"해당 \"+filenames[cnt].split(\"\\\\\")[1]+\"이미지는 \"+pre_ans_str+\"으로 추정됩니다.\")\n",
    "    if i[2] >= 0.8: print(\"해당 \"+filenames[cnt].split(\"\\\\\")[1]+\"이미지는 \"+pre_ans_str+\"로 추정됩니다.\")\n",
    "    if i[3] >= 0.8: print(\"해당 \"+filenames[cnt].split(\"\\\\\")[1]+\"이미지는 \"+pre_ans_str+\"로 추정됩니다.\")\n",
    "    if i[4] >= 0.8: print(\"해당 \"+filenames[cnt].split(\"\\\\\")[1]+\"이미지는 \"+pre_ans_str+\"로 추정됩니다.\")\n",
    "    if i[5] >= 0.8: print(\"해당 \"+filenames[cnt].split(\"\\\\\")[1]+\"이미지는 \"+pre_ans_str+\"로 추정됩니다.\")\n",
    "    cnt += 1\n",
    "    # print(i.argmax()) #얘가 레이블 [1. 0. 0.] 이런식으로 되어 있는 것을 숫자로 바꿔주는 것.\n",
    "    # 즉 얘랑, 나중에 카테고리 데이터 불러와서 카테고리랑 비교를 해서 같으면 맞는거고, 아니면 틀린거로 취급하면 된다.\n",
    "    # 이걸 한 것은 _4.py에."
   ]
  },
  {
   "cell_type": "code",
   "execution_count": null,
   "metadata": {},
   "outputs": [],
   "source": []
  },
  {
   "cell_type": "code",
   "execution_count": null,
   "metadata": {},
   "outputs": [],
   "source": []
  },
  {
   "cell_type": "code",
   "execution_count": null,
   "metadata": {},
   "outputs": [],
   "source": []
  }
 ],
 "metadata": {
  "kernelspec": {
   "display_name": "Python 3",
   "language": "python",
   "name": "python3"
  },
  "language_info": {
   "codemirror_mode": {
    "name": "ipython",
    "version": 3
   },
   "file_extension": ".py",
   "mimetype": "text/x-python",
   "name": "python",
   "nbconvert_exporter": "python",
   "pygments_lexer": "ipython3",
   "version": "3.7.4"
  }
 },
 "nbformat": 4,
 "nbformat_minor": 4
}
